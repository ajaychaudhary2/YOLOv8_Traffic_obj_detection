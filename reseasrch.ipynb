{
 "cells": [
  {
   "cell_type": "code",
   "execution_count": 2,
   "metadata": {},
   "outputs": [
    {
     "name": "stdout",
     "output_type": "stream",
     "text": [
      "Ultralytics Version: 8.3.94\n",
      "Torch Version: 2.4.1+cpu\n",
      "Matplotlib Version: 3.7.5\n",
      "OpenCV Version: 4.11.0\n"
     ]
    }
   ],
   "source": [
    "import ultralytics\n",
    "import torch\n",
    "import matplotlib\n",
    "import cv2\n",
    "\n",
    "print(\"Ultralytics Version:\", ultralytics.__version__)\n",
    "print(\"Torch Version:\", torch.__version__)\n",
    "print(\"Matplotlib Version:\", matplotlib.__version__)\n",
    "print(\"OpenCV Version:\", cv2.__version__)\n"
   ]
  },
  {
   "cell_type": "code",
   "execution_count": 1,
   "metadata": {},
   "outputs": [
    {
     "name": "stdout",
     "output_type": "stream",
     "text": [
      "\n",
      "image 1/1 C:\\Users\\91740\\Downloads\\traffic-7272520_640.jpg: 864x1280 13 persons, 29 cars, 4 motorcycles, 2 buss, 3 trucks, 2347.1ms\n",
      "Speed: 24.4ms preprocess, 2347.1ms inference, 20.5ms postprocess per image at shape (1, 3, 864, 1280)\n",
      "Results saved to \u001b[1mresults\\my_predictions\u001b[0m\n"
     ]
    },
    {
     "data": {
      "text/plain": [
       "[ultralytics.engine.results.Results object with attributes:\n",
       " \n",
       " boxes: ultralytics.engine.results.Boxes object\n",
       " keypoints: None\n",
       " masks: None\n",
       " names: {0: 'person', 1: 'bicycle', 2: 'car', 3: 'motorcycle', 4: 'airplane', 5: 'bus', 6: 'train', 7: 'truck', 8: 'boat', 9: 'traffic light', 10: 'fire hydrant', 11: 'stop sign', 12: 'parking meter', 13: 'bench', 14: 'bird', 15: 'cat', 16: 'dog', 17: 'horse', 18: 'sheep', 19: 'cow', 20: 'elephant', 21: 'bear', 22: 'zebra', 23: 'giraffe', 24: 'backpack', 25: 'umbrella', 26: 'handbag', 27: 'tie', 28: 'suitcase', 29: 'frisbee', 30: 'skis', 31: 'snowboard', 32: 'sports ball', 33: 'kite', 34: 'baseball bat', 35: 'baseball glove', 36: 'skateboard', 37: 'surfboard', 38: 'tennis racket', 39: 'bottle', 40: 'wine glass', 41: 'cup', 42: 'fork', 43: 'knife', 44: 'spoon', 45: 'bowl', 46: 'banana', 47: 'apple', 48: 'sandwich', 49: 'orange', 50: 'broccoli', 51: 'carrot', 52: 'hot dog', 53: 'pizza', 54: 'donut', 55: 'cake', 56: 'chair', 57: 'couch', 58: 'potted plant', 59: 'bed', 60: 'dining table', 61: 'toilet', 62: 'tv', 63: 'laptop', 64: 'mouse', 65: 'remote', 66: 'keyboard', 67: 'cell phone', 68: 'microwave', 69: 'oven', 70: 'toaster', 71: 'sink', 72: 'refrigerator', 73: 'book', 74: 'clock', 75: 'vase', 76: 'scissors', 77: 'teddy bear', 78: 'hair drier', 79: 'toothbrush'}\n",
       " obb: None\n",
       " orig_img: array([[[144, 162, 173],\n",
       "         [170, 187, 196],\n",
       "         [184, 196, 200],\n",
       "         ...,\n",
       "         [ 21,  17,  29],\n",
       "         [ 20,  16,  28],\n",
       "         [ 24,  20,  32]],\n",
       " \n",
       "        [[142, 160, 171],\n",
       "         [164, 182, 189],\n",
       "         [186, 198, 202],\n",
       "         ...,\n",
       "         [ 16,  12,  24],\n",
       "         [ 25,  21,  33],\n",
       "         [ 21,  17,  29]],\n",
       " \n",
       "        [[140, 159, 167],\n",
       "         [154, 172, 179],\n",
       "         [189, 201, 205],\n",
       "         ...,\n",
       "         [ 18,  14,  25],\n",
       "         [ 28,  24,  36],\n",
       "         [ 18,  14,  26]],\n",
       " \n",
       "        ...,\n",
       " \n",
       "        [[122, 121, 117],\n",
       "         [122, 121, 117],\n",
       "         [111, 112, 110],\n",
       "         ...,\n",
       "         [137, 138, 134],\n",
       "         [134, 135, 131],\n",
       "         [157, 158, 154]],\n",
       " \n",
       "        [[122, 121, 117],\n",
       "         [127, 126, 122],\n",
       "         [126, 127, 125],\n",
       "         ...,\n",
       "         [185, 186, 182],\n",
       "         [179, 180, 176],\n",
       "         [154, 156, 150]],\n",
       " \n",
       "        [[108, 107, 103],\n",
       "         [106, 105, 101],\n",
       "         [106, 104, 103],\n",
       "         ...,\n",
       "         [136, 138, 132],\n",
       "         [145, 147, 141],\n",
       "         [134, 137, 128]]], dtype=uint8)\n",
       " orig_shape: (427, 640)\n",
       " path: 'C:\\\\Users\\\\91740\\\\Downloads\\\\traffic-7272520_640.jpg'\n",
       " probs: None\n",
       " save_dir: 'results\\\\my_predictions'\n",
       " speed: {'preprocess': 24.37590000000256, 'inference': 2347.0896000000002, 'postprocess': 20.488300000000237}]"
      ]
     },
     "execution_count": 1,
     "metadata": {},
     "output_type": "execute_result"
    }
   ],
   "source": [
    "from ultralytics import YOLO\n",
    "model = YOLO(r\"E:\\Data_Science _master\\DL\\CNN\\Object detection\\Yolo8\\ObjectDetection_webapp_yolov8\\yolov8m.pt\")\n",
    "\n",
    "# model.predict(source=\"C:/Users/91740/Downloads/city-traffic-congestion.webp\", save=True, project=\"results\", name=\"my_predictions\")\n",
    "model.predict(source=\"C:/Users/91740/Downloads/traffic-7272520_640.jpg\", save=True, imgsz=1280, project=\"results\", name=\"my_predictions\")"
   ]
  }
 ],
 "metadata": {
  "kernelspec": {
   "display_name": "Python 3",
   "language": "python",
   "name": "python3"
  },
  "language_info": {
   "codemirror_mode": {
    "name": "ipython",
    "version": 3
   },
   "file_extension": ".py",
   "mimetype": "text/x-python",
   "name": "python",
   "nbconvert_exporter": "python",
   "pygments_lexer": "ipython3",
   "version": "3.8.0"
  }
 },
 "nbformat": 4,
 "nbformat_minor": 2
}
