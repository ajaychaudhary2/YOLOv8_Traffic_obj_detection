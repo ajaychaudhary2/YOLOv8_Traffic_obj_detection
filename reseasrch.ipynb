{
 "cells": [
  {
   "cell_type": "code",
   "execution_count": 2,
   "metadata": {},
   "outputs": [
    {
     "name": "stdout",
     "output_type": "stream",
     "text": [
      "Ultralytics Version: 8.3.94\n",
      "Torch Version: 2.4.1+cpu\n",
      "Matplotlib Version: 3.7.5\n",
      "OpenCV Version: 4.11.0\n"
     ]
    }
   ],
   "source": [
    "import ultralytics\n",
    "import torch\n",
    "import matplotlib\n",
    "import cv2\n",
    "\n",
    "print(\"Ultralytics Version:\", ultralytics.__version__)\n",
    "print(\"Torch Version:\", torch.__version__)\n",
    "print(\"Matplotlib Version:\", matplotlib.__version__)\n",
    "print(\"OpenCV Version:\", cv2.__version__)\n"
   ]
  },
  {
   "cell_type": "code",
   "execution_count": 16,
   "metadata": {},
   "outputs": [
    {
     "name": "stdout",
     "output_type": "stream",
     "text": [
      "\n",
      "image 1/1 C:\\Users\\91740\\Downloads\\traffic-jam-overhead-view.webp: 864x1280 26 cars, 1 truck, 2040.0ms\n",
      "Speed: 25.5ms preprocess, 2040.0ms inference, 2.3ms postprocess per image at shape (1, 3, 864, 1280)\n",
      "Results saved to \u001b[1mresults\\my_predictions2\u001b[0m\n"
     ]
    },
    {
     "data": {
      "text/plain": [
       "[ultralytics.engine.results.Results object with attributes:\n",
       " \n",
       " boxes: ultralytics.engine.results.Boxes object\n",
       " keypoints: None\n",
       " masks: None\n",
       " names: {0: 'person', 1: 'bicycle', 2: 'car', 3: 'motorcycle', 4: 'airplane', 5: 'bus', 6: 'train', 7: 'truck', 8: 'boat', 9: 'traffic light', 10: 'fire hydrant', 11: 'stop sign', 12: 'parking meter', 13: 'bench', 14: 'bird', 15: 'cat', 16: 'dog', 17: 'horse', 18: 'sheep', 19: 'cow', 20: 'elephant', 21: 'bear', 22: 'zebra', 23: 'giraffe', 24: 'backpack', 25: 'umbrella', 26: 'handbag', 27: 'tie', 28: 'suitcase', 29: 'frisbee', 30: 'skis', 31: 'snowboard', 32: 'sports ball', 33: 'kite', 34: 'baseball bat', 35: 'baseball glove', 36: 'skateboard', 37: 'surfboard', 38: 'tennis racket', 39: 'bottle', 40: 'wine glass', 41: 'cup', 42: 'fork', 43: 'knife', 44: 'spoon', 45: 'bowl', 46: 'banana', 47: 'apple', 48: 'sandwich', 49: 'orange', 50: 'broccoli', 51: 'carrot', 52: 'hot dog', 53: 'pizza', 54: 'donut', 55: 'cake', 56: 'chair', 57: 'couch', 58: 'potted plant', 59: 'bed', 60: 'dining table', 61: 'toilet', 62: 'tv', 63: 'laptop', 64: 'mouse', 65: 'remote', 66: 'keyboard', 67: 'cell phone', 68: 'microwave', 69: 'oven', 70: 'toaster', 71: 'sink', 72: 'refrigerator', 73: 'book', 74: 'clock', 75: 'vase', 76: 'scissors', 77: 'teddy bear', 78: 'hair drier', 79: 'toothbrush'}\n",
       " obb: None\n",
       " orig_img: array([[[130, 113, 102],\n",
       "         [129, 112, 101],\n",
       "         [129, 112, 101],\n",
       "         ...,\n",
       "         [142, 129, 113],\n",
       "         [151, 161, 152],\n",
       "         [177, 200, 194]],\n",
       " \n",
       "        [[128, 111, 100],\n",
       "         [129, 112, 101],\n",
       "         [130, 113, 102],\n",
       "         ...,\n",
       "         [160, 153, 141],\n",
       "         [174, 184, 180],\n",
       "         [183, 201, 201]],\n",
       " \n",
       "        [[124, 107,  96],\n",
       "         [128, 111, 100],\n",
       "         [131, 114, 103],\n",
       "         ...,\n",
       "         [172, 179, 178],\n",
       "         [181, 190, 196],\n",
       "         [168, 181, 188]],\n",
       " \n",
       "        ...,\n",
       " \n",
       "        [[  1, 109,  85],\n",
       "         [ 12, 114,  88],\n",
       "         [ 25, 116,  90],\n",
       "         ...,\n",
       "         [255, 252, 250],\n",
       "         [253, 249, 248],\n",
       "         [252, 248, 246]],\n",
       " \n",
       "        [[  6, 116,  93],\n",
       "         [  5, 109,  85],\n",
       "         [ 23, 114,  87],\n",
       "         ...,\n",
       "         [255, 249, 248],\n",
       "         [254, 248, 246],\n",
       "         [253, 246, 245]],\n",
       " \n",
       "        [[ 33, 143, 120],\n",
       "         [  0,  95,  71],\n",
       "         [  0,  90,  63],\n",
       "         ...,\n",
       "         [255, 247, 246],\n",
       "         [255, 247, 246],\n",
       "         [255, 246, 245]]], dtype=uint8)\n",
       " orig_shape: (408, 612)\n",
       " path: 'C:\\\\Users\\\\91740\\\\Downloads\\\\traffic-jam-overhead-view.webp'\n",
       " probs: None\n",
       " save_dir: 'results\\\\my_predictions2'\n",
       " speed: {'preprocess': 25.53710000006504, 'inference': 2039.9599000002127, 'postprocess': 2.291499999955704}]"
      ]
     },
     "execution_count": 16,
     "metadata": {},
     "output_type": "execute_result"
    }
   ],
   "source": [
    "from ultralytics import YOLO\n",
    "model = YOLO(r\"E:\\Data_Science _master\\DL\\CNN\\Object detection\\Yolo8\\ObjectDetection_webapp_yolov8\\yolov8m.pt\")\n",
    "\n",
    "# model.predict(source=\"C:/Users/91740/Downloads/city-traffic-congestion.webp\", save=True, project=\"results\", name=\"my_predictions\")\n",
    "model.predict(source=\"C:/Users/91740/Downloads/traffic-jam-overhead-view.webp\", save=True, imgsz=1280, project=\"results\", name=\"my_predictions\")"
   ]
  },
  {
   "cell_type": "code",
   "execution_count": null,
   "metadata": {},
   "outputs": [],
   "source": []
  }
 ],
 "metadata": {
  "kernelspec": {
   "display_name": "Python 3",
   "language": "python",
   "name": "python3"
  },
  "language_info": {
   "codemirror_mode": {
    "name": "ipython",
    "version": 3
   },
   "file_extension": ".py",
   "mimetype": "text/x-python",
   "name": "python",
   "nbconvert_exporter": "python",
   "pygments_lexer": "ipython3",
   "version": "3.8.0"
  }
 },
 "nbformat": 4,
 "nbformat_minor": 2
}
